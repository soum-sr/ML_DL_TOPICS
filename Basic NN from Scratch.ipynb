{
 "cells": [
  {
   "cell_type": "markdown",
   "metadata": {},
   "source": [
    "<h2> Basic Artificial Neural Network</h2>"
   ]
  },
  {
   "cell_type": "markdown",
   "metadata": {},
   "source": [
    "<p>Lets make an ANN that will show whether a student will perform good or bad based on that students habits</p>"
   ]
  },
  {
   "cell_type": "code",
   "execution_count": 44,
   "metadata": {},
   "outputs": [],
   "source": [
    "# Importing the required libraries\n",
    "import numpy as np\n",
    "# yeah thats it"
   ]
  },
  {
   "cell_type": "markdown",
   "metadata": {},
   "source": [
    "<p>The input features will be a rating from 0 to 1 = poor to good in a sequence: \"self study, timepass, sleep, performance in class\"</p>\n"
   ]
  },
  {
   "cell_type": "code",
   "execution_count": 70,
   "metadata": {},
   "outputs": [],
   "source": [
    "# input\n",
    "X = np.array([[1,0,1,1],\n",
    "              [0,1,1,0],\n",
    "              [1,1,1,1]])"
   ]
  },
  {
   "cell_type": "code",
   "execution_count": 71,
   "metadata": {},
   "outputs": [],
   "source": [
    "# output\n",
    "y = np.array([[1],\n",
    "             [0],\n",
    "             [1]])"
   ]
  },
  {
   "cell_type": "code",
   "execution_count": 47,
   "metadata": {},
   "outputs": [],
   "source": [
    "# activation function\n",
    "def sigmoid(x,deriv = False):\n",
    "    if deriv == True:\n",
    "        return x*(1-x)\n",
    "    return 1/(1+np.exp(-x))"
   ]
  },
  {
   "cell_type": "code",
   "execution_count": 72,
   "metadata": {},
   "outputs": [],
   "source": [
    "# initialization model variables\n",
    "epoch = 500\n",
    "lr = 0.1\n",
    "inputlayer_neurons = X.shape[1] # number of features in the data\n",
    "hiddenlayer_neurons = 3 # number of hidden neurons\n",
    "output_neurons = y.shape[1] # number of output neurons"
   ]
  },
  {
   "cell_type": "code",
   "execution_count": 73,
   "metadata": {},
   "outputs": [],
   "source": [
    "# initialization of weight and bias\n",
    "w_hidden = np.random.uniform(size = (inputlayer_neurons, hiddenlayer_neurons))\n",
    "b_hidden = np.random.uniform(size = (1, hiddenlayer_neurons))\n",
    "w_output = np.random.uniform(size =(hiddenlayer_neurons, output_neurons))\n",
    "b_output = np.random.uniform(size = (1, output_neurons))"
   ]
  },
  {
   "cell_type": "code",
   "execution_count": 81,
   "metadata": {},
   "outputs": [
    {
     "name": "stdout",
     "output_type": "stream",
     "text": [
      "0\n",
      "100\n",
      "200\n",
      "300\n",
      "400\n",
      "500\n",
      "600\n",
      "700\n",
      "800\n",
      "900\n",
      "[[0.96293521 0.98344375 0.96012676]\n",
      " [0.93790918 0.05420234 0.92180073]\n",
      " [0.98591081 0.92369651 0.98204279]]\n",
      "[[0.94064756]\n",
      " [0.11971139]\n",
      " [0.9164    ]]\n"
     ]
    }
   ],
   "source": [
    "# training the model\n",
    "for i in range(1000):\n",
    "    # Forward propagation\n",
    "    hiddenlayer_input = np.dot(X, w_hidden) + b_hidden\n",
    "    hiddenlayer_activation = sigmoid(hiddenlayer_input, deriv = False)\n",
    "    outputlayer_input = np.dot(hiddenlayer_activation, w_output) + b_out\n",
    "    output = sigmoid(outputlayer_input, deriv = False)\n",
    "    \n",
    "    # Back Propagation\n",
    "    Error = y - output\n",
    "    slope_outputlayer = sigmoid(output, deriv = True)\n",
    "    slope_hiddenlayer = sigmoid(hiddenlayer_activation, deriv = True)\n",
    "    delta_output = Error * slope_outputlayer \n",
    "    Error_hiddenlayer = np.dot(delta_output, w_output.T)\n",
    "    delta_hiddenlayer = Error_hiddenlayer * slope_hiddenlayer\n",
    "    w_output = w_output + np.dot(hiddenlayer_activation.T, delta_output) * lr\n",
    "    b_output = b_output + np.sum(delta_output, axis = 0, keepdims = True) * lr\n",
    "    w_hidden = w_hidden + np.dot(X.T, delta_hiddenlayer) * lr\n",
    "    b_hidden = b_hidden + np.sum(delta_hiddenlayer, axis = 0, keepdims = True) *lr\n",
    "    if i % 100 == 0:\n",
    "        print(i)\n",
    "\n",
    "print(output)\n",
    "    \n",
    "  "
   ]
  },
  {
   "cell_type": "code",
   "execution_count": 95,
   "metadata": {},
   "outputs": [
    {
     "name": "stdout",
     "output_type": "stream",
     "text": [
      "Bro wake up\n"
     ]
    }
   ],
   "source": [
    "test = [[0.1,0.9,0.9,0.2]]\n",
    "hiddenlayer_input = np.dot(test, w_hidden) + b_hidden\n",
    "hiddenlayer_activation = sigmoid(hiddenlayer_input, deriv = False)\n",
    "outputlayer_input = np.dot(hiddenlayer_activation, w_output) + b_out\n",
    "output = sigmoid(outputlayer_input, deriv = False)\n",
    "if output > 0.5:\n",
    "    print(\"He's doin good\")\n",
    "else:\n",
    "    print(\"Bro wake up\")"
   ]
  },
  {
   "cell_type": "code",
   "execution_count": null,
   "metadata": {},
   "outputs": [],
   "source": []
  },
  {
   "cell_type": "code",
   "execution_count": null,
   "metadata": {},
   "outputs": [],
   "source": []
  },
  {
   "cell_type": "code",
   "execution_count": null,
   "metadata": {},
   "outputs": [],
   "source": []
  },
  {
   "cell_type": "code",
   "execution_count": null,
   "metadata": {},
   "outputs": [],
   "source": []
  }
 ],
 "metadata": {
  "kernelspec": {
   "display_name": "Python 3",
   "language": "python",
   "name": "python3"
  },
  "language_info": {
   "codemirror_mode": {
    "name": "ipython",
    "version": 3
   },
   "file_extension": ".py",
   "mimetype": "text/x-python",
   "name": "python",
   "nbconvert_exporter": "python",
   "pygments_lexer": "ipython3",
   "version": "3.6.5"
  }
 },
 "nbformat": 4,
 "nbformat_minor": 2
}
